{
 "cells": [
  {
   "cell_type": "code",
   "execution_count": 2,
   "metadata": {
    "collapsed": false
   },
   "outputs": [],
   "source": [
    "from my_svm import *"
   ]
  },
  {
   "cell_type": "code",
   "execution_count": 3,
   "metadata": {
    "collapsed": true
   },
   "outputs": [],
   "source": [
    "import numpy as np\n",
    "import matplotlib.pyplot as plt\n",
    "import pylab as plb\n",
    "from sklearn.svm import SVC\n",
    "from sklearn.cross_validation import train_test_split"
   ]
  },
  {
   "cell_type": "code",
   "execution_count": 3,
   "metadata": {
    "collapsed": false
   },
   "outputs": [],
   "source": [
    "def simple_plot(X, x_name, y_name, list_of_curves_name, title, log=True):\n",
    "    plt.title(title)\n",
    "    plt.xlabel(x_name)\n",
    "    plt.ylabel(y_name)\n",
    "    #plt.set_linestyle('solid')\n",
    "    plt_list = []\n",
    "    for i in range(len(X)):\n",
    "        if log:\n",
    "            plt_list.append(plt.semilogy(X[i], label = list_of_curves_name[i], ls = '-'))\n",
    "        else:\n",
    "            plt_list.append(plt.plot(X[i], label = list_of_curves_name[i], ls = '-'))\n",
    "    plt.legend(bbox_to_anchor=(1.05, 1), loc=0, borderaxespad=0.)\n",
    "    plt.show()\n",
    "    "
   ]
  },
  {
   "cell_type": "code",
   "execution_count": 13,
   "metadata": {
    "collapsed": true
   },
   "outputs": [],
   "source": [
    "def simple_plot_single(x, y, x_name, y_name, title):\n",
    "    plt.title(title)\n",
    "    plt.xlabel(x_name)\n",
    "    plt.ylabel(y_name)\n",
    "    plt.plot(x, y)\n",
    "    plt.show()"
   ]
  },
  {
   "cell_type": "code",
   "execution_count": 5,
   "metadata": {
    "collapsed": true
   },
   "outputs": [],
   "source": [
    "linear_list = ['subgradient', 'batchsubgradient', 'qpprimal']"
   ]
  },
  {
   "cell_type": "code",
   "execution_count": 6,
   "metadata": {
    "collapsed": true
   },
   "outputs": [],
   "source": [
    "list_of_demension = [(200, 2), (1000, 2), (200, 5), (1000, 5), (200, 10), (1000, 10), (500, 200)]"
   ]
  },
  {
   "cell_type": "code",
   "execution_count": 10,
   "metadata": {
    "collapsed": false
   },
   "outputs": [
    {
     "name": "stdout",
     "output_type": "stream",
     "text": [
      "Time in SVC with shape  (200, 2) 0.000869035720825\n",
      "Time in subgradient whith shape  (200, 2) 0.0996661186218\n",
      "Time in batchsubgradient whith shape  (200, 2) 0.19117307663\n",
      "Time in qpprimal whith shape  (200, 2) 0.228708028793\n",
      "Time in SVC with shape  (1000, 2) 0.00495219230652\n",
      "Time in subgradient whith shape  (1000, 2) 0.17625784874\n",
      "Time in batchsubgradient whith shape  (1000, 2) 0.361289024353\n",
      "Time in qpprimal whith shape  (1000, 2) 35.9939239025\n",
      "Time in SVC with shape  (200, 5) 0.000795125961304\n",
      "Time in subgradient whith shape  (200, 5) 0.108266115189\n",
      "Time in batchsubgradient whith shape  (200, 5) 0.191659212112\n",
      "Time in qpprimal whith shape  (200, 5) 0.259722948074\n",
      "Time in SVC with shape  (1000, 5) 0.00135397911072\n",
      "Time in subgradient whith shape  (1000, 5) 0.215737104416\n",
      "Time in batchsubgradient whith shape  (1000, 5) 1.02841496468\n",
      "Time in qpprimal whith shape  (1000, 5) 33.0133471489\n",
      "Time in SVC with shape  (200, 10) 0.000586986541748\n",
      "Time in subgradient whith shape  (200, 10) 0.123391151428\n",
      "Time in batchsubgradient whith shape  (200, 10) 0.19740986824\n",
      "Time in qpprimal whith shape  (200, 10) 0.251418113708\n",
      "Time in SVC with shape  (1000, 10) 0.00193309783936\n",
      "Time in subgradient whith shape  (1000, 10) 0.259703874588\n",
      "Time in batchsubgradient whith shape  (1000, 10) 0.884132862091\n",
      "Time in qpprimal whith shape  (1000, 10) 37.5987420082\n",
      "Time in SVC with shape  (500, 200) 0.0073390007019\n",
      "Time in subgradient whith shape  (500, 200) 1.84061789513\n",
      "Time in batchsubgradient whith shape  (500, 200) 1.48135209084\n",
      "Time in qpprimal whith shape  (500, 200) 5.75624394417\n"
     ]
    }
   ],
   "source": [
    "linear_list = ['subgradient', 'batchsubgradient', 'qpprimal']\n",
    "for d in list_of_demension:\n",
    "    X1, X2 = data_generate_N(d, m1=2, m2=5)\n",
    "    y = np.hstack((np.ones(d[0]), -np.ones(d[0])))\n",
    "    X = np.vstack((X1, X2))\n",
    "    true_svm = SVC(max_iter=10000, tol=1e-4,  C=1, kernel='linear')\n",
    "    true_svm.fit(X, y)\n",
    "    #true_svm = my_svm('SVC')\n",
    "    #r = true_svm.fit(X, y, max_iter=1000, tol=1e-4, C=1, plot=False)\n",
    "    #print 'Time in SVC with shape ', d, r['time']\n",
    "    w = np.zeros(X.shape[1] + 1)\n",
    "    w[0] = true_svm.intercept_\n",
    "    w[1:] = true_svm.coef_\n",
    "    tmp = my_svm()\n",
    "    standart = tmp.compute_primal_objective(X, y, w, 1)\n",
    "    objective_curves_dif = []\n",
    "    for l in linear_list:\n",
    "        obj = my_svm(l)\n",
    "        res = obj.fit(X, y, tol=1e-4, C=1, max_iter=1000, plot=False)\n",
    "        objective_curves_dif.append(np.abs(res['objective'] - standart))\n",
    "        print \"Time in \" + l + \" whith shape \", d, res['time']\n",
    "        #if l == 'SVC':\n",
    "            #print 'In SVC objective curves dif: ', np.abs(res['objective'] - standart)\n",
    "    simple_plot(objective_curves_dif, 'iterations', 'objective function difference', linear_list, 'convergence')\n",
    "    "
   ]
  },
  {
   "cell_type": "code",
   "execution_count": 10,
   "metadata": {
    "collapsed": true
   },
   "outputs": [],
   "source": [
    "kernel_list = ['qpdual']"
   ]
  },
  {
   "cell_type": "code",
   "execution_count": 15,
   "metadata": {
    "collapsed": false
   },
   "outputs": [
    {
     "name": "stdout",
     "output_type": "stream",
     "text": [
      "Time in SVC with shape  (200, 2)  =  0.0279998779297\n",
      "Time in qpdual whith shape  (200, 2) 0.220999956131\n",
      "Time in SVC with shape  (1000, 2)  =  0.267999887466\n",
      "Time in qpdual whith shape  (1000, 2) 11.0429999828\n",
      "Time in SVC with shape  (200, 5)  =  0.0420000553131\n",
      "Time in qpdual whith shape  (200, 5) 0.220999956131\n",
      "Time in SVC with shape  (1000, 5)  =  0.246000051498\n",
      "Time in qpdual whith shape  (1000, 5) 9.28600001335\n",
      "Time in SVC with shape  (200, 10)  =  0.0629999637604\n",
      "Time in qpdual whith shape  (200, 10) 0.210000038147\n",
      "Time in SVC with shape  (1000, 10)  =  0.301000118256\n",
      "Time in qpdual whith shape  (1000, 10) 8.77399992943\n",
      "Time in SVC with shape  (500, 200)  =  0.30899977684\n",
      "Time in qpdual whith shape  (500, 200) 2.72200012207\n"
     ]
    }
   ],
   "source": [
    "for d in list_of_demension:\n",
    "    X1, X2 = data_generate_N(d, m1=2, m2=5)\n",
    "    y = np.hstack((np.ones(d[0]), -np.ones(d[0])))\n",
    "    X = np.vstack((X1, X2))\n",
    "    objective_curves = []\n",
    "    svm = my_svm(\"SVC\")\n",
    "    st = svm.fit(X, y, 1, max_iter=1000, gamma=0.2, plot=False)\n",
    "    print \"Time in SVC with shape \", d, \" = \" ,st['time']\n",
    "    standart = st['objective'][-1]\n",
    "    for k in kernel_list:\n",
    "        obj = my_svm(k)\n",
    "        res = obj.fit(X, y, 1, max_iter=1000, gamma=0.2, plot=False)\n",
    "        objective_curves.append(res['objective'])\n",
    "        print \"Time in \" + k + \" whith shape \", d, res['time']\n",
    "    dif_objective_curves = np.abs(objective_curves - standart)\n",
    "    simple_plot(dif_objective_curves, 'iterations', 'objective function difference', kernel_list, 'convergence with RBM kernel', log=False)\n"
   ]
  },
  {
   "cell_type": "code",
   "execution_count": null,
   "metadata": {
    "collapsed": true
   },
   "outputs": [],
   "source": []
  },
  {
   "cell_type": "code",
   "execution_count": 6,
   "metadata": {
    "collapsed": false
   },
   "outputs": [
    {
     "name": "stdout",
     "output_type": "stream",
     "text": [
      "Training set:  (200, 2)  best C =  10  best gamma =  0.4  best accuracy =  0.954887218045\n",
      "Training set:  (1000, 2)  best C =  10  best gamma =  0.2  best accuracy =  0.936436436436\n",
      "Training set:  (200, 5)  best C =  0.5  best gamma =  0.9  best accuracy =  0.997493734336\n",
      "Training set:  (1000, 5)  best C =  0.1  best gamma =  0.1  best accuracy =  0.987487487487\n",
      "Training set:  (200, 10)  best C =  0.1  best gamma =  0  best accuracy =  1.0\n",
      "Training set:  (1000, 10)  best C =  0.1  best gamma =  0  best accuracy =  1.0\n",
      "Training set:  (500, 200)  best C =  0.1  best gamma =  0  best accuracy =  1.0\n"
     ]
    }
   ],
   "source": [
    "from sklearn.cross_validation import train_test_split\n",
    "n_folds = 3\n",
    "C_list = [0.00000001, 0.001, 0.1, 0.5, 1, 10, 100, 1000]\n",
    "gamma_list = [0, 0.1, 0.2, 0.3, 0.4, 0.5, 0.6, 0.7, 0.8, 0.9]\n",
    "for d in list_of_demension:\n",
    "    X1, X2 = data_generate_N(d, m1=2, m2=4)\n",
    "    y = np.hstack((np.ones(d[0]), -np.ones(d[0])))\n",
    "    X = np.vstack((X1, X2))\n",
    "    max_acc = 0\n",
    "    best_gamma = -1\n",
    "    best_c = -1\n",
    "    for c in C_list:\n",
    "        for gamma in gamma_list:\n",
    "            clf = SVC(gamma=gamma, C=c)\n",
    "            ac = 0\n",
    "            for i in range(n_folds):\n",
    "                X1, X2, y1, y2 = train_test_split(X, y, test_size = X.shape[0]/n_folds)\n",
    "                clf.fit(X1, y1)\n",
    "                res = clf.predict(X2)\n",
    "                ac += accuracy(y2, res)\n",
    "            ac /= n_folds\n",
    "            if ac > max_acc:\n",
    "                    max_acc = ac\n",
    "                    best_gamma = gamma\n",
    "                    best_c = c\n",
    "    print \"Training set: \", d, \" best C = \", best_c, \" best gamma = \", best_gamma, \" best accuracy = \", max_acc            \n",
    "    \n",
    "    "
   ]
  },
  {
   "cell_type": "code",
   "execution_count": 7,
   "metadata": {
    "collapsed": false
   },
   "outputs": [
    {
     "name": "stdout",
     "output_type": "stream",
     "text": [
      "Training set:  (200, 2)  best C =  1  best gamma =  0.1  best accuracy =  0.791979949875\n",
      "Training set:  (1000, 2)  best C =  1  best gamma =  0.6  best accuracy =  0.791291291291\n",
      "Training set:  (200, 5)  best C =  0.5  best gamma =  0  best accuracy =  0.884711779449\n",
      "Training set:  (1000, 5)  best C =  0.1  best gamma =  0  best accuracy =  0.871371371371\n",
      "Training set:  (200, 10)  best C =  0.1  best gamma =  0.1  best accuracy =  0.959899749373\n",
      "Training set:  (1000, 10)  best C =  0.1  best gamma =  0.3  best accuracy =  0.949449449449\n",
      "Training set:  (500, 200)  best C =  0.1  best gamma =  0  best accuracy =  1.0\n"
     ]
    }
   ],
   "source": [
    "from sklearn.cross_validation import train_test_split\n",
    "n_folds = 3\n",
    "C_list = [0.00000001, 0.001, 0.1, 0.5, 1, 10, 100, 1000]\n",
    "gamma_list = [0, 0.1, 0.2, 0.3, 0.4, 0.5, 0.6, 0.7, 0.8, 0.9]\n",
    "for d in list_of_demension:\n",
    "    X1, X2 = data_generate_N(d, m1=2, m2=3)\n",
    "    y = np.hstack((np.ones(d[0]), -np.ones(d[0])))\n",
    "    X = np.vstack((X1, X2))\n",
    "    max_acc = 0\n",
    "    best_gamma = -1\n",
    "    best_c = -1\n",
    "    for c in C_list:\n",
    "        for gamma in gamma_list:\n",
    "            clf = SVC(gamma=gamma, C=c)\n",
    "            ac = 0\n",
    "            for i in range(n_folds):\n",
    "                X1, X2, y1, y2 = train_test_split(X, y, test_size = X.shape[0]/n_folds)\n",
    "                clf.fit(X1, y1)\n",
    "                res = clf.predict(X2)\n",
    "                ac += accuracy(y2, res)\n",
    "            ac /= n_folds\n",
    "            if ac > max_acc:\n",
    "                    max_acc = ac\n",
    "                    best_gamma = gamma\n",
    "                    best_c = c\n",
    "    print \"Training set: \", d, \" best C = \", best_c, \" best gamma = \", best_gamma, \" best accuracy = \", max_acc            "
   ]
  },
  {
   "cell_type": "code",
   "execution_count": 18,
   "metadata": {
    "collapsed": false
   },
   "outputs": [
    {
     "name": "stdout",
     "output_type": "stream",
     "text": [
      "Training set:  (200, 2) best alpha =  100 best_beta =  0 max acc =  0.789289289289\n",
      "Training set:  (1000, 2) best alpha =  1 best_beta =  5 max acc =  0.798798798799\n",
      "Training set:  (200, 5) best alpha =  5 best_beta =  5 max acc =  0.785285285285\n",
      "Training set:  (1000, 5) best alpha =  5 best_beta =  0.5 max acc =  0.791791791792\n",
      "Training set:  (200, 10) best alpha =  1 best_beta =  0.5 max acc =  0.8003003003\n",
      "Training set:  (1000, 10) best alpha =  0.1 best_beta =  2 max acc =  0.791291291291\n",
      "Training set:  (500, 200) best alpha =  5 best_beta =  1 max acc =  0.785785785786\n"
     ]
    }
   ],
   "source": [
    "alpha_list = [0.1, 1, 5, 10, 100]\n",
    "beta_list = [0, 0.5, 1, 2, 5, 10, 50]\n",
    "n_folds = 3\n",
    "X1, X2 = data_generate_N(d, m1=2, m2=3)\n",
    "y = np.hstack((np.ones(d[0]), -np.ones(d[0])))\n",
    "X = np.vstack((X1, X2))\n",
    "\n",
    "for d in list_of_demension:\n",
    "    max_acc = 0\n",
    "    best_alpha = -1\n",
    "    best_beta = -1\n",
    "    for a in alpha_list:\n",
    "        for b in beta_list:\n",
    "            ac = 0\n",
    "            for i in range(n_folds):\n",
    "                X1, X2, y1, y2 = train_test_split(X, y, test_size = X.shape[0]/n_folds)\n",
    "                clf = my_svm('subgradient')\n",
    "                clf.fit(X1, y1, C=0.5, max_iter=1000, plot=False, alpha=a, beta=b)\n",
    "                res = clf.predict(X2)\n",
    "                ac += accuracy(res, y2)\n",
    "            ac = ac/n_folds\n",
    "            if (ac > max_acc):\n",
    "                max_acc = ac\n",
    "                best_alpha = a\n",
    "                best_beta = b\n",
    "    print \"Training set: \", d,  \"best alpha = \", best_alpha, \"best_beta = \", best_beta, \"max acc = \", max_acc\n",
    "                "
   ]
  },
  {
   "cell_type": "code",
   "execution_count": 22,
   "metadata": {
    "collapsed": false
   },
   "outputs": [
    {
     "name": "stdout",
     "output_type": "stream",
     "text": [
      "alpha =  0.1 beta =  0  time =  1.93700003624\n",
      "alpha =  0.1 beta =  0.5  time =  2.03600001335\n",
      "alpha =  0.1 beta =  1  time =  2.25499987602\n",
      "alpha =  0.1 beta =  2  time =  2.01300001144\n",
      "alpha =  0.1 beta =  5  time =  2.132999897\n",
      "alpha =  0.1 beta =  10  time =  1.96200013161\n",
      "alpha =  0.1 beta =  50  time =  1.86500000954\n",
      "alpha =  1 beta =  0  time =  1.88499999046\n",
      "alpha =  1 beta =  0.5  time =  1.86899995804\n",
      "alpha =  1 beta =  1  time =  2.22600007057\n",
      "alpha =  1 beta =  2  time =  2.08500003815\n",
      "alpha =  1 beta =  5  time =  2.07800006866\n",
      "alpha =  1 beta =  10  time =  2.0\n",
      "alpha =  1 beta =  50  time =  1.91100001335\n",
      "alpha =  5 beta =  0  time =  1.90499997139\n",
      "alpha =  5 beta =  0.5  time =  1.92100000381\n",
      "alpha =  5 beta =  1  time =  1.87900018692\n",
      "alpha =  5 beta =  2  time =  1.85800004005\n",
      "alpha =  5 beta =  5  time =  1.89800000191\n",
      "alpha =  5 beta =  10  time =  1.90100002289\n",
      "alpha =  5 beta =  50  time =  1.84999990463\n",
      "alpha =  10 beta =  0  time =  2.02699995041\n",
      "alpha =  10 beta =  0.5  time =  1.99800014496\n",
      "alpha =  10 beta =  1  time =  2.02300000191\n",
      "alpha =  10 beta =  2  time =  1.97300004959\n",
      "alpha =  10 beta =  5  time =  1.92300009727\n",
      "alpha =  10 beta =  10  time =  1.93700003624\n",
      "alpha =  10 beta =  50  time =  1.91199994087\n",
      "alpha =  100 beta =  0  time =  1.89600014687\n",
      "alpha =  100 beta =  0.5  time =  1.375\n",
      "alpha =  100 beta =  1  time =  1.41599988937\n",
      "alpha =  100 beta =  2  time =  1.40400004387\n",
      "alpha =  100 beta =  5  time =  1.4240000248\n",
      "alpha =  100 beta =  10  time =  1.40400004387\n",
      "alpha =  100 beta =  50  time =  1.41100001335\n"
     ]
    }
   ],
   "source": [
    "d = (5000, 10)\n",
    "X1, X2 = data_generate_N(d, m1=2, m2=3)\n",
    "y = np.hstack((np.ones(d[0]), -np.ones(d[0])))\n",
    "X = np.vstack((X1, X2))\n",
    "for a in alpha_list:\n",
    "    for b in beta_list:\n",
    "        clf = my_svm('subgradient')\n",
    "        res = clf.fit(X, y, C=0.5, max_iter=1000, plot=False, alpha=a, beta=b)\n",
    "        print \"alpha = \", a, \"beta = \", b, ' time = ', res['time']"
   ]
  },
  {
   "cell_type": "code",
   "execution_count": 10,
   "metadata": {
    "collapsed": false
   },
   "outputs": [],
   "source": [
    "alpha_list = [0.1, 1, 5, 10, 100]\n",
    "beta_list = [0, 0.5, 1, 2, 5, 10, 50]\n",
    "fix_alpha = 1\n",
    "beta_time_list = []\n",
    "for b in beta_list:\n",
    "        clf = my_svm('subgradient')\n",
    "        res = clf.fit(X, y, C=0.5, max_iter=1000, plot=False, alpha=fix_alpha, beta=b)\n",
    "        beta_time_list.append(res['time'])\n",
    "        #print \"alpha = \", a, \"beta = \", b, ' time = ', res['time']\n",
    "\n",
    "simple_plot_single(beta_list, beta_time_list, 'beta value', 'time', '')"
   ]
  },
  {
   "cell_type": "code",
   "execution_count": 15,
   "metadata": {
    "collapsed": false
   },
   "outputs": [],
   "source": [
    "alpha_list = [0.1, 1, 5, 10, 100]\n",
    "fix_beta = 1\n",
    "alpha_time_list = []\n",
    "for a in alpha_list:\n",
    "        clf = my_svm('subgradient')\n",
    "        res = clf.fit(X, y, C=0.5, max_iter=1000, plot=False, alpha=a, beta=fix_beta)\n",
    "        alpha_time_list.append(res['time'])\n",
    "        #print \"alpha = \", a, \"beta = \", b, ' time = ', res['time']\n",
    "\n",
    "simple_plot_single(alpha_list, alpha_time_list, 'alpha value', 'time', '')"
   ]
  },
  {
   "cell_type": "code",
   "execution_count": 4,
   "metadata": {
    "collapsed": true
   },
   "outputs": [],
   "source": [
    "d = (5000, 10)\n",
    "X1, X2 = data_generate_N(d, m1=2, m2=3)\n",
    "y = np.hstack((np.ones(d[0]), -np.ones(d[0])))\n",
    "X = np.vstack((X1, X2))"
   ]
  },
  {
   "cell_type": "code",
   "execution_count": 12,
   "metadata": {
    "collapsed": false
   },
   "outputs": [],
   "source": [
    "batch_size = [1, 10, 100, 500, 1000, 2500]\n",
    "time_list = []\n",
    "acc_list = []\n",
    "\n",
    "d = (5000, 10)\n",
    "X1, X2 = data_generate_N(d, m1=2, m2=3)\n",
    "y = np.hstack((np.ones(d[0]), -np.ones(d[0])))\n",
    "X = np.vstack((X1, X2))\n",
    "\n",
    "d = (2000, 10)\n",
    "X1, X2 = data_generate_N(d, m1=2, m2=3, rs=42)\n",
    "y_test = np.hstack((np.ones(d[0]), -np.ones(d[0])))\n",
    "X_test = np.vstack((X1, X2))\n",
    "\n",
    "\n",
    "for bs in batch_size:\n",
    "    clf = my_svm('batchsubgradient')\n",
    "    res = clf.fit(X, y, C=0.5, max_iter=1000, plot=False, alpha=0.1, beta=2, batch_size=bs)\n",
    "    time_list.append(res['time'])\n",
    "    predict = clf.predict(X_test)\n",
    "    acc_list.append(accuracy(y_test, predict))"
   ]
  },
  {
   "cell_type": "code",
   "execution_count": 15,
   "metadata": {
    "collapsed": false
   },
   "outputs": [],
   "source": [
    "simple_plot_single(batch_size, time_list, 'samples in batch', 'time', '')"
   ]
  },
  {
   "cell_type": "code",
   "execution_count": 14,
   "metadata": {
    "collapsed": true
   },
   "outputs": [],
   "source": [
    "simple_plot_single(batch_size, acc_list, 'samples in batch', 'accuracy', '')"
   ]
  },
  {
   "cell_type": "code",
   "execution_count": 19,
   "metadata": {
    "collapsed": false
   },
   "outputs": [
    {
     "data": {
      "text/plain": [
       "{'objective': array([ 2392.65200911,    21.74319609,    21.74319609]),\n",
       " 'status': 0,\n",
       " 'time': 0.003999948501586914,\n",
       " 'w': array([ 12.4745217 ,  -1.85496389,  -1.63955988])}"
      ]
     },
     "execution_count": 19,
     "metadata": {},
     "output_type": "execute_result"
    }
   ],
   "source": [
    "d = (200, 2)\n",
    "X1, X2 = data_generate_N(d, m1=2, m2=5)\n",
    "y = np.hstack((np.ones(d[0]), -np.ones(d[0])))\n",
    "X = np.vstack((X1, X2))\n",
    "obj = my_svm('SVC')\n",
    "obj.fit(X, y, 1, max_iter=1000, gamma=0)"
   ]
  },
  {
   "cell_type": "code",
   "execution_count": null,
   "metadata": {
    "collapsed": true
   },
   "outputs": [],
   "source": []
  }
 ],
 "metadata": {
  "kernelspec": {
   "display_name": "Python 2",
   "language": "python",
   "name": "python2"
  },
  "language_info": {
   "codemirror_mode": {
    "name": "ipython",
    "version": 2
   },
   "file_extension": ".py",
   "mimetype": "text/x-python",
   "name": "python",
   "nbconvert_exporter": "python",
   "pygments_lexer": "ipython2",
   "version": "2.7.6"
  }
 },
 "nbformat": 4,
 "nbformat_minor": 0
}
